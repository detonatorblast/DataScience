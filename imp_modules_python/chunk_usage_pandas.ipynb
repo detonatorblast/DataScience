{
 "cells": [
  {
   "cell_type": "code",
   "execution_count": 16,
   "metadata": {},
   "outputs": [],
   "source": [
    "import pandas as pd\n",
    "import re"
   ]
  },
  {
   "cell_type": "code",
   "execution_count": 70,
   "metadata": {},
   "outputs": [],
   "source": [
    "def processChunk(chunk):\n",
    "    for i in chunk.index:\n",
    "        if chunk['name'][i] == \"Dr. Vinicio Sanasi\":\n",
    "            print chunk['factual_id'][i]"
   ]
  },
  {
   "cell_type": "code",
   "execution_count": 71,
   "metadata": {
    "scrolled": true
   },
   "outputs": [
    {
     "name": "stdout",
     "output_type": "stream",
     "text": [
      "00023fdf-1ce3-4431-8b64-b24c6d010d2e\n"
     ]
    }
   ],
   "source": [
    "for chunk in pd.read_csv('it_places.factual.2019-04-22.1556930821.tab', sep='\\t', chunksize=5):\n",
    "    processChunk(chunk)\n",
    "    break\n"
   ]
  },
  {
   "cell_type": "code",
   "execution_count": null,
   "metadata": {},
   "outputs": [],
   "source": []
  }
 ],
 "metadata": {
  "kernelspec": {
   "display_name": "Python 2",
   "language": "python",
   "name": "python2"
  },
  "language_info": {
   "codemirror_mode": {
    "name": "ipython",
    "version": 2
   },
   "file_extension": ".py",
   "mimetype": "text/x-python",
   "name": "python",
   "nbconvert_exporter": "python",
   "pygments_lexer": "ipython2",
   "version": "2.7.11"
  }
 },
 "nbformat": 4,
 "nbformat_minor": 2
}
