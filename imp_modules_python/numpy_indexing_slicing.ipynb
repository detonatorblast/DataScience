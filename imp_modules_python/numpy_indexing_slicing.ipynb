{
 "cells": [
  {
   "cell_type": "markdown",
   "metadata": {},
   "source": [
    "* indexing and slicing with numpy array works pretty much same as string/list indexing and slicing in python"
   ]
  },
  {
   "cell_type": "code",
   "execution_count": 3,
   "metadata": {},
   "outputs": [
    {
     "data": {
      "text/plain": [
       "array([ 1,  2,  3,  4,  5,  6,  7,  8,  9, 10])"
      ]
     },
     "execution_count": 3,
     "metadata": {},
     "output_type": "execute_result"
    }
   ],
   "source": [
    "import numpy as np\n",
    "\n",
    "arr = np.arange(1,11)\n",
    "arr"
   ]
  },
  {
   "cell_type": "code",
   "execution_count": 4,
   "metadata": {},
   "outputs": [
    {
     "data": {
      "text/plain": [
       "4"
      ]
     },
     "execution_count": 4,
     "metadata": {},
     "output_type": "execute_result"
    }
   ],
   "source": [
    "# to get element at index 3,\n",
    "arr[3]"
   ]
  },
  {
   "cell_type": "code",
   "execution_count": 5,
   "metadata": {},
   "outputs": [
    {
     "data": {
      "text/plain": [
       "array([2, 3, 4, 5, 6])"
      ]
     },
     "execution_count": 5,
     "metadata": {},
     "output_type": "execute_result"
    }
   ],
   "source": [
    "# to get elements between index 1 to  index 6\n",
    "arr[1:6]"
   ]
  },
  {
   "cell_type": "code",
   "execution_count": 6,
   "metadata": {},
   "outputs": [
    {
     "data": {
      "text/plain": [
       "array([1, 2, 3, 4, 5])"
      ]
     },
     "execution_count": 6,
     "metadata": {},
     "output_type": "execute_result"
    }
   ],
   "source": [
    "# to get elements up to index 5\n",
    "arr[:5]"
   ]
  },
  {
   "cell_type": "code",
   "execution_count": 7,
   "metadata": {},
   "outputs": [
    {
     "data": {
      "text/plain": [
       "array([ 5,  6,  7,  8,  9, 10])"
      ]
     },
     "execution_count": 7,
     "metadata": {},
     "output_type": "execute_result"
    }
   ],
   "source": [
    "# to to get everything after a particular index\n",
    "arr[4:]"
   ]
  },
  {
   "cell_type": "markdown",
   "metadata": {},
   "source": [
    "* numpy arrays differ from a normal python list with the ability to broadcast a value to a range of indexes"
   ]
  },
  {
   "cell_type": "code",
   "execution_count": 18,
   "metadata": {},
   "outputs": [
    {
     "name": "stdout",
     "output_type": "stream",
     "text": [
      "demo original array:  [ 1  2  3  4  5  6  7  8  9 10]\n",
      "demo array after broadcast:  [ 1 25 25 25 25  6  7  8  9 10]\n",
      "original array:  [ 1  2  3  4  5  6  7  8  9 10]\n",
      "sliced array:  [3 4 5 6 7 8]\n",
      "sliced array:  [50 50 50 50 50 50]\n",
      "original array:  [ 1  2 50 50 50 50 50 50  9 10]\n",
      "original array:  [  1   2  50  50  50  50 999  50   9  10]\n",
      "original array:  [ 1  2  3  4  5  6  7  8  9 10]\n",
      "sliced array:  [999 999 999 999]\n",
      "original array is still the same:  [ 1  2  3  4  5  6  7  8  9 10]\n",
      "copied arr is changed:  [  1 999 999 999 999   6   7   8   9  10]\n"
     ]
    }
   ],
   "source": [
    "# E.g.\n",
    "tmparr = np.arange(1,11)\n",
    "print(\"demo original array:  {}\".format(tmparr))\n",
    "\n",
    "# Broadcast a value of 25 to all elements between index 1 to 5\n",
    "tmparr[1:5] = 25\n",
    "print(\"demo array after broadcast:  {}\".format(tmparr))\n",
    "\n",
    "\"\"\"\n",
    "Note: slicing will not create deep copy of original array in normal scenario\n",
    "Means, if we change the sliced array, the changes will reflect to original array.\n",
    "\"\"\"\n",
    "# E.g.\n",
    "tmparr = np.arange(1,11)\n",
    "print(\"original array:  {}\".format(tmparr))\n",
    "\n",
    "slicedarr = tmparr[2:8]\n",
    "print(\"sliced array:  {}\".format(slicedarr))\n",
    "\n",
    "# Now if we use update values in sliced array, it will reflect to original array\n",
    "# broadcast 50 to all elements of sliced array\n",
    "slicedarr[:] = 50\n",
    "print(\"sliced array:  {}\".format(slicedarr))\n",
    "\n",
    "print(\"original array:  {}\".format(tmparr))\n",
    "\n",
    "# even if we change single element in sliced array, it will reflect to original array\n",
    "slicedarr[4] = 999\n",
    "print(\"original array:  {}\".format(tmparr))\n",
    "\n",
    "# to get a copy from sliced array not just a reference, use copy() method\n",
    "# Lets reform the array\n",
    "origarr = np.arange(1,11)\n",
    "print(\"original array:  {}\".format(origarr))\n",
    "\n",
    "copyarr = origarr.copy()\n",
    "\n",
    "slicedarr = copyarr[1:5]\n",
    "slicedarr[:] = 999\n",
    "print(\"sliced array:  {}\".format(slicedarr))\n",
    "\n",
    "print(\"original array is still the same:  {}\".format(origarr))\n",
    "\n",
    "print(\"copied arr is changed:  {}\".format(copyarr))\n",
    "\n",
    "\n"
   ]
  },
  {
   "cell_type": "markdown",
   "metadata": {},
   "source": [
    "# 2-D Array indexing and Slicing\n",
    "* We may index a 2-D array in 2 ways using numpy\n",
    "    * Using the c-like 2 array notation i.e. arr[r][c], where r is index of row and c is index of column \n",
    "    * passing row and column indexes as comma seperated value in a single array notation. like arr[r,c]\n",
    "    \n",
    " Refer to below examples\n",
    "    "
   ]
  },
  {
   "cell_type": "code",
   "execution_count": 19,
   "metadata": {},
   "outputs": [
    {
     "data": {
      "text/plain": [
       "array([[ 5, 10, 15],\n",
       "       [20, 25, 30],\n",
       "       [35, 40, 45]])"
      ]
     },
     "execution_count": 19,
     "metadata": {},
     "output_type": "execute_result"
    }
   ],
   "source": [
    "import numpy as np\n",
    "\n",
    "# first let us create an 2-D array in numpy\n",
    "# delcare a 2-D list in python\n",
    "tmplist = [[5,10,15], [20,25,30], [35,40,45]]\n",
    "array_2d = np.array(tmplist)\n",
    "\n",
    "array_2d"
   ]
  },
  {
   "cell_type": "code",
   "execution_count": 20,
   "metadata": {},
   "outputs": [
    {
     "data": {
      "text/plain": [
       "25"
      ]
     },
     "execution_count": 20,
     "metadata": {},
     "output_type": "execute_result"
    }
   ],
   "source": [
    "# Use 2 consecutive array notation to access elements at any index\n",
    "# to grab '25', row index is 1 and column index is also 1\n",
    "array_2d[1][1]  "
   ]
  },
  {
   "cell_type": "code",
   "execution_count": 22,
   "metadata": {},
   "outputs": [
    {
     "data": {
      "text/plain": [
       "25"
      ]
     },
     "execution_count": 22,
     "metadata": {},
     "output_type": "execute_result"
    }
   ],
   "source": [
    "# same can be achieved by passing row and column index as comma seperated value in single array notation to array_2d\n",
    "array_2d[1,1]"
   ]
  },
  {
   "cell_type": "code",
   "execution_count": 27,
   "metadata": {},
   "outputs": [
    {
     "data": {
      "text/plain": [
       "array([[10, 15],\n",
       "       [25, 30]])"
      ]
     },
     "execution_count": 27,
     "metadata": {},
     "output_type": "execute_result"
    }
   ],
   "source": [
    "# slicing 2d array, getting top right corner element \n",
    "# i.e. 10,15\n",
    " #       25,30\n",
    "array_2d[:2, 1:]  # take till 2nd row and 1st column onwards"
   ]
  },
  {
   "cell_type": "code",
   "execution_count": 29,
   "metadata": {},
   "outputs": [
    {
     "data": {
      "text/plain": [
       "array([ 0,  1,  2,  3,  4,  5,  6,  7,  8,  9, 10, 11, 12, 13, 14, 15, 16,\n",
       "       17, 18, 19, 20, 21, 22, 23, 24, 25, 26, 27, 28, 29])"
      ]
     },
     "execution_count": 29,
     "metadata": {},
     "output_type": "execute_result"
    }
   ],
   "source": [
    "# let us take a bigger array \n",
    "np_array = np.arange(30)\n",
    "np_array\n"
   ]
  },
  {
   "cell_type": "code",
   "execution_count": 30,
   "metadata": {},
   "outputs": [
    {
     "data": {
      "text/plain": [
       "array([[ 0,  1,  2,  3,  4,  5],\n",
       "       [ 6,  7,  8,  9, 10, 11],\n",
       "       [12, 13, 14, 15, 16, 17],\n",
       "       [18, 19, 20, 21, 22, 23],\n",
       "       [24, 25, 26, 27, 28, 29]])"
      ]
     },
     "execution_count": 30,
     "metadata": {},
     "output_type": "execute_result"
    }
   ],
   "source": [
    "# now reshape it to a 2-D array of 5*6 matrix\n",
    "np_array = np_array.reshape(5,6)\n",
    "np_array"
   ]
  },
  {
   "cell_type": "code",
   "execution_count": 31,
   "metadata": {},
   "outputs": [
    {
     "data": {
      "text/plain": [
       "array([[ 7,  8,  9],\n",
       "       [13, 14, 15],\n",
       "       [19, 20, 21]])"
      ]
     },
     "execution_count": 31,
     "metadata": {},
     "output_type": "execute_result"
    }
   ],
   "source": [
    "# now let us grab \n",
    "# 7,8,9\n",
    "# 13,14,15\n",
    "# 19,20,21\n",
    "# For this, will take values from row 1 to 3 and column 1 to 3\n",
    "np_array[1:4, 1:4] # will have pass index+1, so for grabbing till row index 3, we passed 4"
   ]
  },
  {
   "cell_type": "code",
   "execution_count": 32,
   "metadata": {},
   "outputs": [
    {
     "data": {
      "text/plain": [
       "array([[15, 16, 17],\n",
       "       [21, 22, 23],\n",
       "       [27, 28, 29]])"
      ]
     },
     "execution_count": 32,
     "metadata": {},
     "output_type": "execute_result"
    }
   ],
   "source": [
    "# play around, will grab\n",
    "# 15,16,17\n",
    "# 21,22,23\n",
    "# 27,28,29\n",
    "# for this, need values from row 2 till end, column from 3 till end\n",
    "np_array[2:, 3:]"
   ]
  },
  {
   "cell_type": "markdown",
   "metadata": {},
   "source": [
    "# applying some condition/operation on whole array\n",
    "* With Numpy we may apply some specific condition on whole array\n",
    "\n",
    "Please refer below examples for the same"
   ]
  },
  {
   "cell_type": "code",
   "execution_count": 33,
   "metadata": {},
   "outputs": [
    {
     "data": {
      "text/plain": [
       "array([ 1,  2,  3,  4,  5,  6,  7,  8,  9, 10, 11, 12, 13, 14, 15, 16, 17,\n",
       "       18, 19, 20, 21, 22, 23, 24, 25, 26, 27, 28, 29, 30, 31, 32, 33, 34,\n",
       "       35, 36, 37, 38, 39, 40, 41, 42, 43, 44, 45, 46, 47, 48, 49])"
      ]
     },
     "execution_count": 33,
     "metadata": {},
     "output_type": "execute_result"
    }
   ],
   "source": [
    "# If we apply any condition on whole array, will get boolean array in result\n",
    "# E.g.\n",
    "np_array = np.arange(1,50)\n",
    "np_array "
   ]
  },
  {
   "cell_type": "code",
   "execution_count": 36,
   "metadata": {},
   "outputs": [
    {
     "data": {
      "text/plain": [
       "array([ True,  True,  True,  True,  True,  True,  True,  True,  True,\n",
       "        True,  True,  True,  True,  True, False, False, False, False,\n",
       "       False, False, False, False, False, False, False, False, False,\n",
       "       False, False, False, False, False, False, False, False, False,\n",
       "       False, False, False, False, False, False, False, False, False,\n",
       "       False, False, False, False])"
      ]
     },
     "execution_count": 36,
     "metadata": {},
     "output_type": "execute_result"
    }
   ],
   "source": [
    "# Now let us apply some condition on this array\n",
    "bool_array = np_array < 15\n",
    "bool_array"
   ]
  },
  {
   "cell_type": "code",
   "execution_count": 37,
   "metadata": {},
   "outputs": [
    {
     "data": {
      "text/plain": [
       "array([ 1,  2,  3,  4,  5,  6,  7,  8,  9, 10, 11, 12, 13, 14])"
      ]
     },
     "execution_count": 37,
     "metadata": {},
     "output_type": "execute_result"
    }
   ],
   "source": [
    "# we may see in above example that we got an array of bools, now if we use this result array of bools to original array\n",
    "# we will get all the elements with True at thier index positions\n",
    "np_array[bool_array]"
   ]
  },
  {
   "cell_type": "code",
   "execution_count": 38,
   "metadata": {},
   "outputs": [
    {
     "data": {
      "text/plain": [
       "array([ 1,  2,  3,  4,  5,  6,  7,  8,  9, 10, 11, 12, 13, 14])"
      ]
     },
     "execution_count": 38,
     "metadata": {},
     "output_type": "execute_result"
    }
   ],
   "source": [
    "# Now instead of using a intermediate array like bool_array, \n",
    "# we may use the condition directly in array notation in place of indexes. e.g.\n",
    "# To get all the element less than 15 from np_array\n",
    "np_array[np_array < 15]"
   ]
  },
  {
   "cell_type": "code",
   "execution_count": 43,
   "metadata": {},
   "outputs": [
    {
     "data": {
      "text/plain": [
       "array([ 4,  5,  6,  7,  8,  9, 10, 11, 12, 13, 14, 15, 16, 17, 18, 19, 20,\n",
       "       21, 22, 23, 24, 25, 26, 27, 28, 29, 30, 31, 32, 33, 34, 35, 36, 37,\n",
       "       38, 39, 40, 41, 42, 43, 44, 45, 46, 47, 48, 49, 50, 51, 52])"
      ]
     },
     "execution_count": 43,
     "metadata": {},
     "output_type": "execute_result"
    }
   ],
   "source": [
    "# We may use other operation on whole array, like\n",
    "# Below operation will add 1 to whole array\n",
    "np_array = np_array + 1\n",
    "np_array"
   ]
  },
  {
   "cell_type": "code",
   "execution_count": null,
   "metadata": {},
   "outputs": [],
   "source": []
  }
 ],
 "metadata": {
  "kernelspec": {
   "display_name": "Python 3",
   "language": "python",
   "name": "python3"
  },
  "language_info": {
   "codemirror_mode": {
    "name": "ipython",
    "version": 3
   },
   "file_extension": ".py",
   "mimetype": "text/x-python",
   "name": "python",
   "nbconvert_exporter": "python",
   "pygments_lexer": "ipython3",
   "version": "3.7.0"
  }
 },
 "nbformat": 4,
 "nbformat_minor": 2
}
