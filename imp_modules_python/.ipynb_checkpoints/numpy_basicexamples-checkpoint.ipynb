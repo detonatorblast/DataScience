{
 "cells": [
  {
   "cell_type": "markdown",
   "metadata": {},
   "source": [
    "# Sample code to demonstrate numpy basic functionality"
   ]
  },
  {
   "cell_type": "code",
   "execution_count": 2,
   "metadata": {},
   "outputs": [],
   "source": [
    "\"\"\"\n",
    "Import module numpy\n",
    "\"\"\"\n",
    "import numpy as np"
   ]
  },
  {
   "cell_type": "code",
   "execution_count": 6,
   "metadata": {},
   "outputs": [
    {
     "data": {
      "text/plain": [
       "array([1, 2, 3, 4])"
      ]
     },
     "execution_count": 6,
     "metadata": {},
     "output_type": "execute_result"
    }
   ],
   "source": [
    "# we may cast a normal python list as numpy list as follows\n",
    "arr = [1,2,3,4]\n",
    "nparr = np.array(arr)\n",
    "nparr"
   ]
  },
  {
   "cell_type": "code",
   "execution_count": 7,
   "metadata": {},
   "outputs": [
    {
     "data": {
      "text/plain": [
       "array([[1, 2, 3],\n",
       "       [4, 5, 6],\n",
       "       [7, 8, 9]])"
      ]
     },
     "execution_count": 7,
     "metadata": {},
     "output_type": "execute_result"
    }
   ],
   "source": [
    "# This casting can be done on n-dimensional array also\n",
    "arr = [[1,2,3], [4,5,6], [7,8,9]]   # sample 2-D list in python\n",
    "nparr = np.array(arr)\n",
    "nparr"
   ]
  },
  {
   "cell_type": "markdown",
   "metadata": {},
   "source": [
    "# Numpy provides its own methods to generate arrays "
   ]
  },
  {
   "cell_type": "code",
   "execution_count": 9,
   "metadata": {},
   "outputs": [
    {
     "data": {
      "text/plain": [
       "array([1, 2, 3, 4, 5, 6, 7, 8, 9])"
      ]
     },
     "execution_count": 9,
     "metadata": {},
     "output_type": "execute_result"
    }
   ],
   "source": [
    "# For example, we may create an array over a range in numpy\n",
    "nparr = np.arange(1,10)   # similar to python range function, this will create a list of nmbers from 1 t0 9\n",
    "nparr"
   ]
  },
  {
   "cell_type": "code",
   "execution_count": 13,
   "metadata": {},
   "outputs": [
    {
     "data": {
      "text/plain": [
       "array([  2,   4,   6,   8,  10,  12,  14,  16,  18,  20,  22,  24,  26,\n",
       "        28,  30,  32,  34,  36,  38,  40,  42,  44,  46,  48,  50,  52,\n",
       "        54,  56,  58,  60,  62,  64,  66,  68,  70,  72,  74,  76,  78,\n",
       "        80,  82,  84,  86,  88,  90,  92,  94,  96,  98, 100])"
      ]
     },
     "execution_count": 13,
     "metadata": {},
     "output_type": "execute_result"
    }
   ],
   "source": [
    "# we may provide step as 3rd argument to the arange() function, to get elements spaced with that size. \n",
    "# For example, \n",
    "nparr = np.arange(1,11,2)\n",
    "#nparr\n",
    "\n",
    "# this can be used to determine even/odd numbers in a series very easily. Like to get all even numbers between 2 to 100,\n",
    "evenarr = np.arange(2,101,2)\n",
    "evenarr"
   ]
  },
  {
   "cell_type": "code",
   "execution_count": 36,
   "metadata": {},
   "outputs": [
    {
     "data": {
      "text/plain": [
       "array([ 1.,  2.,  3.,  4.,  5.,  6.,  7.,  8.,  9., 10.])"
      ]
     },
     "execution_count": 36,
     "metadata": {},
     "output_type": "execute_result"
    }
   ],
   "source": [
    "# numpy also provide method to get a range split into equal number of parts.\n",
    "# E.g. if we want to get 10 equi distant points between 1 to 10, we may do it with linspace() method\n",
    "linarr = np.linspace(1,10,10)\n",
    "linarr\n"
   ]
  },
  {
   "cell_type": "markdown",
   "metadata": {},
   "source": [
    "# Numpy provides us with some methods to generate special kind of arrays"
   ]
  },
  {
   "cell_type": "code",
   "execution_count": 20,
   "metadata": {},
   "outputs": [
    {
     "name": "stdout",
     "output_type": "stream",
     "text": [
      "One dimensional array with all zeros = [0. 0. 0.]\n",
      "Two dimensional array with all zeros = [[0. 0. 0. 0. 0.]\n",
      " [0. 0. 0. 0. 0.]\n",
      " [0. 0. 0. 0. 0.]]\n"
     ]
    }
   ],
   "source": [
    "# Like, to create an array of all zero's\n",
    "zarr = np.zeros(3)    # pass size as argument\n",
    "print(\"One dimensional array with all zeros = {}\".format((zarr)))\n",
    "\n",
    "# similarly, we may zeros function to create multidimensional array with all zero's\n",
    "zarr = np.zeros((3,5))  # pass the tuple for the size in case of 2-D array\n",
    "print(\"Two dimensional array with all zeros = {}\".format((zarr)))"
   ]
  },
  {
   "cell_type": "code",
   "execution_count": 29,
   "metadata": {},
   "outputs": [
    {
     "name": "stdout",
     "output_type": "stream",
     "text": [
      "One dimensional array with all ones = [1. 1. 1.]\n",
      "Two dimensional array with all ones = [[1. 1. 1.]\n",
      " [1. 1. 1.]\n",
      " [1. 1. 1.]]\n"
     ]
    }
   ],
   "source": [
    "# numpy also provides method to create an array with all 1's with almost similar behavious as zeros()\n",
    "oarr = np.ones(3) \n",
    "print(\"One dimensional array with all ones = {}\".format((oarr)))\n",
    "\n",
    "# we may pass tuple as argument to ones() method to create multidimensional array\n",
    "oarr = np.ones((3,3))\n",
    "print(\"Two dimensional array with all ones = {}\".format(oarr))"
   ]
  },
  {
   "cell_type": "markdown",
   "metadata": {},
   "source": [
    "# Identity matrix\n",
    "* An identity matrix is basically a 2-D dimensional square matrix with it diagonal elements as 1 and all remaining elements as zero"
   ]
  },
  {
   "cell_type": "code",
   "execution_count": 38,
   "metadata": {},
   "outputs": [
    {
     "name": "stdout",
     "output_type": "stream",
     "text": [
      "identity matrix is :\n"
     ]
    },
    {
     "data": {
      "text/plain": [
       "array([[1., 0., 0.],\n",
       "       [0., 1., 0.],\n",
       "       [0., 0., 1.]])"
      ]
     },
     "execution_count": 38,
     "metadata": {},
     "output_type": "execute_result"
    }
   ],
   "source": [
    "# numpy provides a method to create an identity matrix\n",
    "iarr=np.eye(3)  # we just pass 1 argument as size, as identiry matrix is square\n",
    "print(\"identity matrix is :\")\n",
    "iarr"
   ]
  },
  {
   "cell_type": "markdown",
   "metadata": {},
   "source": [
    "# Random Numbers with numpy"
   ]
  },
  {
   "cell_type": "code",
   "execution_count": 41,
   "metadata": {},
   "outputs": [
    {
     "data": {
      "text/plain": [
       "array([[0.61134413, 0.57508469, 0.21035884, 0.44793865, 0.9376543 ],\n",
       "       [0.33875741, 0.81523958, 0.79955542, 0.3915558 , 0.17639155],\n",
       "       [0.10969159, 0.11782698, 0.78754467, 0.53873117, 0.5191316 ]])"
      ]
     },
     "execution_count": 41,
     "metadata": {},
     "output_type": "execute_result"
    }
   ],
   "source": [
    "# We may get array with numbers from uniformly distributed elements between a range of 0 to 1 by following method\n",
    "randpointarr = np.random.rand(5)\n",
    "randpointarr\n",
    "\n",
    "# To genrate a 2-D array with similar points we pass 2 arguments, \n",
    "# with first argument as number of rows and 2nd argument as number of columns\n",
    "randpointarr = np.random.rand(3, 5)   # please note taht we don't need to pass tuple as we did with ones() and zeros() methods\n",
    "randpointarr"
   ]
  },
  {
   "cell_type": "markdown",
   "metadata": {},
   "source": [
    "# reference link to study gaussian distribution\n",
    "* https://www.sciencedirect.com/topics/biochemistry-genetics-and-molecular-biology/gaussian-distribution"
   ]
  },
  {
   "cell_type": "code",
   "execution_count": 45,
   "metadata": {},
   "outputs": [
    {
     "data": {
      "text/plain": [
       "array([[-0.98928561, -0.46119441,  1.58227209],\n",
       "       [-2.22778896, -1.73214654,  1.33920982],\n",
       "       [ 1.61929378, -0.99889116,  0.47212681],\n",
       "       [ 0.35490725, -0.9420034 , -2.59723969],\n",
       "       [ 1.14669826,  0.97890208,  0.99608798]])"
      ]
     },
     "execution_count": 45,
     "metadata": {},
     "output_type": "execute_result"
    }
   ],
   "source": [
    "# we may use below method to get numbers from normal distribution i.e not ranging from 0 to 1\n",
    "rarr = np.random.randn(5)\n",
    "rarr\n",
    "\n",
    "# we may get 2-D arrays with similar points by passing 2nd argument as number of columns\n",
    "rarr = np.random.randn(5,3)\n",
    "rarr"
   ]
  },
  {
   "cell_type": "code",
   "execution_count": 47,
   "metadata": {},
   "outputs": [
    {
     "data": {
      "text/plain": [
       "array([12, 72, 51, 81, 29, 63, 56,  3, 56, 87])"
      ]
     },
     "execution_count": 47,
     "metadata": {},
     "output_type": "execute_result"
    }
   ],
   "source": [
    "# To get random integers between two numbers, we may use randint() method.. \n",
    "rint = np.random.randint(1, 100) # 1 is inclusive and 100 is exclusive\n",
    "rint\n",
    "\n",
    "# to get an array of random numbers from the range, pass number of elements as 3rd argument\n",
    "rintarr = np.random.randint(1,100,10)\n",
    "rintarr"
   ]
  },
  {
   "cell_type": "markdown",
   "metadata": {},
   "source": [
    "# some useful array methods"
   ]
  },
  {
   "cell_type": "code",
   "execution_count": 54,
   "metadata": {},
   "outputs": [
    {
     "data": {
      "text/plain": [
       "array([[ 0,  1,  2,  3,  4],\n",
       "       [ 5,  6,  7,  8,  9],\n",
       "       [10, 11, 12, 13, 14],\n",
       "       [15, 16, 17, 18, 19],\n",
       "       [20, 21, 22, 23, 24]])"
      ]
     },
     "execution_count": 54,
     "metadata": {},
     "output_type": "execute_result"
    }
   ],
   "source": [
    "# we may reshape a given array, provided the size of new array remains unchanged\n",
    "# E.g. \n",
    "arr = np.arange(25)\n",
    "arr\n",
    "\n",
    "# since arr is having total of 25 elements, we may reshape it to a 2-D array of 5*5\n",
    "rsarr = arr.reshape(5,5)\n",
    "rsarr\n",
    "\n",
    "# similary we may again reshape 2-D array to a 1-D array\n",
    "arr = rsarr.reshape(25)\n",
    "arr\n",
    "\n",
    "#  but we will get error with size of new array changes, \n",
    "# i.e. total number of elemts are not equal to the size of new array to be created\n",
    "# rsarr = arr.reshape(5,6)  # will throw error\n",
    "rsarr"
   ]
  },
  {
   "cell_type": "code",
   "execution_count": 64,
   "metadata": {},
   "outputs": [
    {
     "name": "stdout",
     "output_type": "stream",
     "text": [
      "[74 53 96 43 96 10 63 88 57 77]\n",
      "min number in given array is 10\n",
      "max number in given array is 96\n",
      "index for min number in given array is 5\n",
      "index for max number in given array is 2\n"
     ]
    }
   ],
   "source": [
    "# we may find out minimum and maximum value of array using inbuilt methods min() and max() along with their index location\n",
    "# Create an array with 10 random integers between 1 and 100\n",
    "arr = np.random.randint(1, 100, 10)\n",
    "print(arr)\n",
    "\n",
    "minele = arr.min()\n",
    "maxele = arr.max()\n",
    "\n",
    "print(\"min number in given array is %d\" % minele)\n",
    "print(\"max number in given array is %d\" % maxele)\n",
    "\n",
    "# we may also get the index of min and values in te array\n",
    "print(\"index for min number in given array is %d\" % arr.argmin())\n",
    "print(\"index for max number in given array is %d\" % arr.argmax())\n"
   ]
  },
  {
   "cell_type": "code",
   "execution_count": 71,
   "metadata": {},
   "outputs": [
    {
     "data": {
      "text/plain": [
       "dtype('<U11')"
      ]
     },
     "execution_count": 71,
     "metadata": {},
     "output_type": "execute_result"
    }
   ],
   "source": [
    "# To get the shape of an array, we may use shape attribute\n",
    "arr.shape\n",
    "\n",
    "# get the data type of array \n",
    "arr.dtype\n",
    "\n",
    "# checking if we can get dtype for array with mixed data types\n",
    "tmplist = [1, \"One\", 1.5]\n",
    "tmparr = np.array(tmplist)\n",
    "\n",
    "tmparr.dtype"
   ]
  },
  {
   "cell_type": "code",
   "execution_count": null,
   "metadata": {},
   "outputs": [],
   "source": []
  }
 ],
 "metadata": {
  "kernelspec": {
   "display_name": "Python 3",
   "language": "python",
   "name": "python3"
  },
  "language_info": {
   "codemirror_mode": {
    "name": "ipython",
    "version": 3
   },
   "file_extension": ".py",
   "mimetype": "text/x-python",
   "name": "python",
   "nbconvert_exporter": "python",
   "pygments_lexer": "ipython3",
   "version": "3.7.0"
  }
 },
 "nbformat": 4,
 "nbformat_minor": 2
}
