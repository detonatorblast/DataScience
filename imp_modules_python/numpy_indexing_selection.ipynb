{
 "cells": [
  {
   "cell_type": "code",
   "execution_count": 2,
   "metadata": {},
   "outputs": [],
   "source": [
    "import numpy as np"
   ]
  },
  {
   "cell_type": "code",
   "execution_count": 4,
   "metadata": {},
   "outputs": [
    {
     "data": {
      "text/plain": [
       "array([ 0,  1,  2,  3,  4,  5,  6,  7,  8,  9, 10])"
      ]
     },
     "execution_count": 4,
     "metadata": {},
     "output_type": "execute_result"
    }
   ],
   "source": [
    "arr = np.arange(0,11)\n",
    "arr"
   ]
  },
  {
   "cell_type": "code",
   "execution_count": 5,
   "metadata": {},
   "outputs": [
    {
     "data": {
      "text/plain": [
       "8"
      ]
     },
     "execution_count": 5,
     "metadata": {},
     "output_type": "execute_result"
    }
   ],
   "source": [
    "# We can now use array notations to access value at any index, e.g.\n",
    "arr[8]    # Will output value stored at index 8 in numpy array"
   ]
  },
  {
   "cell_type": "code",
   "execution_count": 6,
   "metadata": {},
   "outputs": [
    {
     "name": "stdout",
     "output_type": "stream",
     "text": [
      "[0 1 2 3 4]\n",
      "[ 5  6  7  8  9 10]\n"
     ]
    }
   ],
   "source": [
    "# We can use slicing on numpy array, similar to python list\n",
    "# E.g. \n",
    "print(arr[0:5])\n",
    "print(arr[5:])"
   ]
  },
  {
   "cell_type": "code",
   "execution_count": 10,
   "metadata": {},
   "outputs": [
    {
     "name": "stdout",
     "output_type": "stream",
     "text": [
      "original array is [0 1 2 3 3 3 3 3 3 3 3]\n",
      "array after broadcast is [ 0  1  2 30 30 30 30 30 30 30 30]\n"
     ]
    }
   ],
   "source": [
    "# numpy array differs from python list in terms of broadcast ability\n",
    "# Broadcasting means, updating a range of indexes/slice of array with one value\n",
    "# means broadcast a value to numpy array or part of array\n",
    "# E.g. \n",
    "\n",
    "print('original array is {}'.format(arr))\n",
    "arr[3:] = 30   # will update all the valus to after index 3\n",
    "print('array after broadcast is {}'.format(arr))"
   ]
  },
  {
   "cell_type": "code",
   "execution_count": 11,
   "metadata": {},
   "outputs": [
    {
     "name": "stdout",
     "output_type": "stream",
     "text": [
      "original array is [ 0  1  2  3  4  5  6  7  8  9 10]\n",
      "original arr_sub_arr is [1 2 3]\n"
     ]
    }
   ],
   "source": [
    "\"\"\" \n",
    "Note: numpy array do not return copy of the original array after slicing, rather it just gives you a view to original array \n",
    "\"\"\"\n",
    "arr = np.arange(0,11)\n",
    "# E.g.\n",
    "arr_sub_arr = arr[1:4]\n",
    "\n",
    "print('original array is {}'.format(arr))\n",
    "print('original arr_sub_arr is {}'.format(arr_sub_arr))"
   ]
  },
  {
   "cell_type": "code",
   "execution_count": 12,
   "metadata": {},
   "outputs": [
    {
     "name": "stdout",
     "output_type": "stream",
     "text": [
      "Now arr_sub_arr is [99 99 99]\n",
      "Now array is [ 0 99 99 99  4  5  6  7  8  9 10]\n"
     ]
    }
   ],
   "source": [
    "# Now if we broadcast some value to subarray, it will reflect to original array as well\n",
    "arr_sub_arr[:] = 99\n",
    "print('Now arr_sub_arr is {}'.format(arr_sub_arr))\n",
    "print('Now array is {}'.format(arr))"
   ]
  },
  {
   "cell_type": "code",
   "execution_count": 14,
   "metadata": {},
   "outputs": [
    {
     "data": {
      "text/plain": [
       "array([ 0, 99, 99, 99,  4,  5,  6,  7,  8,  9, 10])"
      ]
     },
     "execution_count": 14,
     "metadata": {},
     "output_type": "execute_result"
    }
   ],
   "source": [
    "# if we want a seperate copy of the array, we need to request it specifically by using copy() method of numpy array\n",
    "# like\n",
    "arr_copy = arr.copy()\n",
    "arr_copy"
   ]
  },
  {
   "cell_type": "markdown",
   "metadata": {},
   "source": [
    "# Indexing and Slicing 2-D array"
   ]
  },
  {
   "cell_type": "code",
   "execution_count": 16,
   "metadata": {},
   "outputs": [
    {
     "data": {
      "text/plain": [
       "array([[ 5, 10, 15],\n",
       "       [20, 25, 30],\n",
       "       [35, 40, 45]])"
      ]
     },
     "execution_count": 16,
     "metadata": {},
     "output_type": "execute_result"
    }
   ],
   "source": [
    "arr_2d = np.array([[5,10,15], [20,25,30], [35,40,45]])\n",
    "arr_2d"
   ]
  },
  {
   "cell_type": "code",
   "execution_count": 17,
   "metadata": {},
   "outputs": [
    {
     "data": {
      "text/plain": [
       "10"
      ]
     },
     "execution_count": 17,
     "metadata": {},
     "output_type": "execute_result"
    }
   ],
   "source": [
    "# We may now use c/c++ style i.e. using 2 array notations to grab value at particular row and column\n",
    "# E.g. for picking 10, i.e. at row 0 and column 1,\n",
    "arr_2d[0][1]"
   ]
  },
  {
   "cell_type": "code",
   "execution_count": 18,
   "metadata": {},
   "outputs": [
    {
     "data": {
      "text/plain": [
       "10"
      ]
     },
     "execution_count": 18,
     "metadata": {},
     "output_type": "execute_result"
    }
   ],
   "source": [
    "# however, the prefered way of doing it with numpy is to use single bracket with row and column index seperated by comma\n",
    "# E.g. \n",
    "arr_2d[0,1]"
   ]
  },
  {
   "cell_type": "code",
   "execution_count": 21,
   "metadata": {},
   "outputs": [
    {
     "name": "stdout",
     "output_type": "stream",
     "text": [
      "[[10 15]\n",
      " [25 30]]\n",
      "[[25 30]\n",
      " [40 45]]\n"
     ]
    }
   ],
   "source": [
    "# We may use this slicing concept to grab a submatrix from the given matrix\n",
    "# E.g. \n",
    "print(arr_2d[:2,1:])\n",
    "\n",
    "print (arr_2d[1:,1:])"
   ]
  },
  {
   "cell_type": "code",
   "execution_count": 25,
   "metadata": {},
   "outputs": [
    {
     "name": "stdout",
     "output_type": "stream",
     "text": [
      "original array is:\n",
      " [ 0  1  2  3  4  5  6  7  8  9 10]\n",
      "Boolean array based on condition applied to array is:\n",
      " [False False False False False False  True  True  True  True  True]\n",
      "Selected array is:\n",
      " [ 6  7  8  9 10]\n"
     ]
    }
   ],
   "source": [
    "# Conditional Selection\n",
    "# Create sample array\n",
    "arr = np.arange(11)\n",
    "print('original array is:\\n {}'.format(arr))\n",
    "\n",
    "# Now we may apply some condition on whole array and store the result in different array\n",
    "bool_arr = arr > 5\n",
    "print(\"Boolean array based on condition applied to array is:\\n {}\".format(bool_arr))\n",
    "\n",
    "# Now if we can use this bool_arr to extract values(indexes we are having True in bool_arr) from sample array, \n",
    "print(\"Selected array is:\\n {}\".format(arr[bool_arr]))"
   ]
  },
  {
   "cell_type": "code",
   "execution_count": 26,
   "metadata": {},
   "outputs": [
    {
     "data": {
      "text/plain": [
       "array([ 4,  5,  6,  7,  8,  9, 10])"
      ]
     },
     "execution_count": 26,
     "metadata": {},
     "output_type": "execute_result"
    }
   ],
   "source": [
    "# We may directly use conditions inside the array notation\n",
    "# E.g. \n",
    "arr[arr>3]"
   ]
  },
  {
   "cell_type": "code",
   "execution_count": 28,
   "metadata": {},
   "outputs": [
    {
     "data": {
      "text/plain": [
       "array([[ 0,  1,  2,  3,  4,  5,  6,  7,  8,  9],\n",
       "       [10, 11, 12, 13, 14, 15, 16, 17, 18, 19],\n",
       "       [20, 21, 22, 23, 24, 25, 26, 27, 28, 29],\n",
       "       [30, 31, 32, 33, 34, 35, 36, 37, 38, 39],\n",
       "       [40, 41, 42, 43, 44, 45, 46, 47, 48, 49]])"
      ]
     },
     "execution_count": 28,
     "metadata": {},
     "output_type": "execute_result"
    }
   ],
   "source": [
    "# Some practice example for 2d array slicing\n",
    "arr = np.arange(0,50).reshape(5,10)\n",
    "arr"
   ]
  },
  {
   "cell_type": "code",
   "execution_count": 29,
   "metadata": {},
   "outputs": [
    {
     "data": {
      "text/plain": [
       "array([[13, 14],\n",
       "       [23, 24]])"
      ]
     },
     "execution_count": 29,
     "metadata": {},
     "output_type": "execute_result"
    }
   ],
   "source": [
    "arr[1:3,3:5]"
   ]
  },
  {
   "cell_type": "code",
   "execution_count": null,
   "metadata": {},
   "outputs": [],
   "source": []
  }
 ],
 "metadata": {
  "kernelspec": {
   "display_name": "Python 3",
   "language": "python",
   "name": "python3"
  },
  "language_info": {
   "codemirror_mode": {
    "name": "ipython",
    "version": 3
   },
   "file_extension": ".py",
   "mimetype": "text/x-python",
   "name": "python",
   "nbconvert_exporter": "python",
   "pygments_lexer": "ipython3",
   "version": "3.7.0"
  }
 },
 "nbformat": 4,
 "nbformat_minor": 2
}
