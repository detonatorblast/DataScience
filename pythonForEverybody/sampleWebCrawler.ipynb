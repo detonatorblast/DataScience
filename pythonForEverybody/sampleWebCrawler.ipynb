{
 "cells": [
  {
   "cell_type": "code",
   "execution_count": 1,
   "metadata": {},
   "outputs": [],
   "source": [
    "import urllib.request, urllib.parse, urllib.error\n",
    "from bs4 import BeautifulSoup\n",
    "import ssl"
   ]
  },
  {
   "cell_type": "code",
   "execution_count": 2,
   "metadata": {},
   "outputs": [],
   "source": [
    "# Ignore SSL certificate errors\n",
    "ctx = ssl.create_default_context()\n",
    "ctx.check_hostname = False\n",
    "ctx.verify_mode = ssl.CERT_NONE"
   ]
  },
  {
   "cell_type": "code",
   "execution_count": 56,
   "metadata": {},
   "outputs": [
    {
     "name": "stdout",
     "output_type": "stream",
     "text": [
      "Enter - http://py4e-data.dr-chuck.net/known_by_Veeran.html\n",
      "enter no of iterations :- 7\n",
      "pos of link to follow :- 18\n"
     ]
    }
   ],
   "source": [
    "url = input('Enter - ')\n",
    "counttorepeat = input(\"enter no of iterations :- \")\n",
    "linkpos = input(\"pos of link to follow :- \")"
   ]
  },
  {
   "cell_type": "code",
   "execution_count": 57,
   "metadata": {},
   "outputs": [
    {
     "name": "stdout",
     "output_type": "stream",
     "text": [
      "['Firket', 'Hadia', 'Cuillin', 'Leyre', 'Rhian', 'Makala', 'Kendyn', 'Fathema']\n"
     ]
    }
   ],
   "source": [
    "noofrepetitions = 0\n",
    "linkpos = int(linkpos)\n",
    "counttorepeat = int(counttorepeat)\n",
    "namelist = ['Firket']\n",
    "def followlink(urlstr):\n",
    "    global noofrepetitions\n",
    "    html = urllib.request.urlopen(urlstr, context=ctx).read()\n",
    "    soup = BeautifulSoup(html, 'html.parser')\n",
    "    # Retrieve all of the anchor tags\n",
    "    tags = soup('a')\n",
    "    for name in tags[linkpos-1].contents:\n",
    "        namelist.append(name)\n",
    "    noofrepetitions += 1 \n",
    "    if noofrepetitions < counttorepeat:\n",
    "        followlink(tags[linkpos-1].get('href', None))\n",
    "    else:\n",
    "        return True\n",
    "    \n",
    "followlink(url)        \n",
    "        \n",
    "print(namelist)"
   ]
  },
  {
   "cell_type": "code",
   "execution_count": null,
   "metadata": {},
   "outputs": [],
   "source": []
  }
 ],
 "metadata": {
  "kernelspec": {
   "display_name": "Python 3",
   "language": "python",
   "name": "python3"
  },
  "language_info": {
   "codemirror_mode": {
    "name": "ipython",
    "version": 3
   },
   "file_extension": ".py",
   "mimetype": "text/x-python",
   "name": "python",
   "nbconvert_exporter": "python",
   "pygments_lexer": "ipython3",
   "version": "3.7.0"
  }
 },
 "nbformat": 4,
 "nbformat_minor": 2
}
