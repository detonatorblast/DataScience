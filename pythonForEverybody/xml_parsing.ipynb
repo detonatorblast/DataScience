{
 "cells": [
  {
   "cell_type": "code",
   "execution_count": 5,
   "metadata": {},
   "outputs": [],
   "source": [
    "import urllib.request, urllib.parse, urllib.error\n",
    "import xml.etree.ElementTree as ET\n",
    "import ssl"
   ]
  },
  {
   "cell_type": "code",
   "execution_count": 6,
   "metadata": {},
   "outputs": [],
   "source": [
    "# Ignore SSL certificate errors\n",
    "ctx = ssl.create_default_context()\n",
    "ctx.check_hostname = False\n",
    "ctx.verify_mode = ssl.CERT_NONE"
   ]
  },
  {
   "cell_type": "code",
   "execution_count": 7,
   "metadata": {},
   "outputs": [
    {
     "name": "stdout",
     "output_type": "stream",
     "text": [
      "Enter URL- http://py4e-data.dr-chuck.net/comments_172665.xml\n",
      "2697\n"
     ]
    }
   ],
   "source": [
    "url = input('Enter URL- ')\n",
    "xmlstr = urllib.request.urlopen(url, context=ctx).read()\n",
    "\n",
    "xmlhnd = ET.fromstring(xmlstr)\n",
    "commentlist = xmlhnd.findall('comments/comment')\n",
    "\n",
    "totalComents = 0\n",
    "for comment in commentlist:\n",
    "    totalComents += int(comment.find('count').text)\n",
    "\n",
    "print(totalComents)\n",
    "    \n"
   ]
  },
  {
   "cell_type": "code",
   "execution_count": null,
   "metadata": {},
   "outputs": [],
   "source": []
  }
 ],
 "metadata": {
  "kernelspec": {
   "display_name": "Python 3",
   "language": "python",
   "name": "python3"
  },
  "language_info": {
   "codemirror_mode": {
    "name": "ipython",
    "version": 3
   },
   "file_extension": ".py",
   "mimetype": "text/x-python",
   "name": "python",
   "nbconvert_exporter": "python",
   "pygments_lexer": "ipython3",
   "version": "3.7.0"
  }
 },
 "nbformat": 4,
 "nbformat_minor": 2
}
