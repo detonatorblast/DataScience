{
 "cells": [
  {
   "cell_type": "code",
   "execution_count": 6,
   "metadata": {},
   "outputs": [],
   "source": [
    "# http://py4e-data.dr-chuck.net/json?\n",
    "\n",
    "import urllib.request, urllib.parse, urllib.error\n",
    "import json\n",
    "import ssl"
   ]
  },
  {
   "cell_type": "code",
   "execution_count": 7,
   "metadata": {},
   "outputs": [],
   "source": [
    "# Ignore SSL certificate errors\n",
    "ctx = ssl.create_default_context()\n",
    "ctx.check_hostname = False\n",
    "ctx.verify_mode = ssl.CERT_NONE\n",
    "api_key = False"
   ]
  },
  {
   "cell_type": "code",
   "execution_count": 22,
   "metadata": {},
   "outputs": [
    {
     "name": "stdout",
     "output_type": "stream",
     "text": [
      "Enter location name:- IIIT Hyderabad\n",
      "Retrieving http://py4e-data.dr-chuck.net/json?address=IIIT+Hyderabad&key=42\n",
      "ChIJK_h_8QMKzjsRlrTemJvoAp0\n"
     ]
    }
   ],
   "source": [
    "#apiendpoint = \"http://py4e-data.dr-chuck.net/json?\"\n",
    "if api_key is False:\n",
    "    api_key = 42\n",
    "    serviceurl = 'http://py4e-data.dr-chuck.net/json?'\n",
    "else :\n",
    "    serviceurl = 'https://maps.googleapis.com/maps/api/geocode/json?'\n",
    "\n",
    "inputlocation = input(\"Enter location name:- \")\n",
    "\n",
    "apiparams = dict()\n",
    "apiparams[\"address\"] = inputlocation\n",
    "if api_key is not False: apiparams['key'] = api_key\n",
    "requesturl = apiendpoint + urllib.parse.urlencode(apiparams)\n",
    "print('Retrieving', requesturl)\n",
    "\n",
    "geohnd = urllib.request.urlopen(requesturl, context=ctx).read().decode()\n",
    "\n",
    "geojson = json.loads(geohnd)\n",
    "# print(json.dumps(geojson[\"results\"][0][\"place_id\"], indent=2))\n",
    "if geojson and 'status' in geojson and geojson['status'] == \"OK\":\n",
    "     print(geojson[\"results\"][0][\"place_id\"])\n",
    "    \n",
    "    "
   ]
  },
  {
   "cell_type": "code",
   "execution_count": null,
   "metadata": {},
   "outputs": [],
   "source": []
  }
 ],
 "metadata": {
  "kernelspec": {
   "display_name": "Python 3",
   "language": "python",
   "name": "python3"
  },
  "language_info": {
   "codemirror_mode": {
    "name": "ipython",
    "version": 3
   },
   "file_extension": ".py",
   "mimetype": "text/x-python",
   "name": "python",
   "nbconvert_exporter": "python",
   "pygments_lexer": "ipython3",
   "version": "3.7.0"
  }
 },
 "nbformat": 4,
 "nbformat_minor": 2
}
