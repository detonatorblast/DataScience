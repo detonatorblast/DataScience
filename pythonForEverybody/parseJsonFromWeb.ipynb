{
 "cells": [
  {
   "cell_type": "code",
   "execution_count": 1,
   "metadata": {},
   "outputs": [],
   "source": [
    "import urllib.request, urllib.parse, urllib.error\n",
    "import json"
   ]
  },
  {
   "cell_type": "code",
   "execution_count": 7,
   "metadata": {},
   "outputs": [
    {
     "name": "stdout",
     "output_type": "stream",
     "text": [
      "Enter URL: http://py4e-data.dr-chuck.net/comments_172666.json\n",
      "2472\n"
     ]
    }
   ],
   "source": [
    "url = input(\"Enter URL: \")\n",
    "\n",
    "jshnd = urllib.request.urlopen(url)\n",
    "data = jshnd.read().decode()\n",
    "\n",
    "totalcomments = 0\n",
    "\n",
    "#load it in json object\n",
    "jsondata = json.loads(data)\n",
    "for comment in jsondata[\"comments\"]:\n",
    "    totalcomments += comment[\"count\"]\n",
    "\n",
    "print(totalcomments)"
   ]
  },
  {
   "cell_type": "code",
   "execution_count": null,
   "metadata": {},
   "outputs": [],
   "source": []
  }
 ],
 "metadata": {
  "kernelspec": {
   "display_name": "Python 3",
   "language": "python",
   "name": "python3"
  },
  "language_info": {
   "codemirror_mode": {
    "name": "ipython",
    "version": 3
   },
   "file_extension": ".py",
   "mimetype": "text/x-python",
   "name": "python",
   "nbconvert_exporter": "python",
   "pygments_lexer": "ipython3",
   "version": "3.7.0"
  }
 },
 "nbformat": 4,
 "nbformat_minor": 2
}
