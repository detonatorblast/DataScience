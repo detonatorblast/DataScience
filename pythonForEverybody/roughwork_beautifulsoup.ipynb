{
 "cells": [
  {
   "cell_type": "code",
   "execution_count": null,
   "metadata": {},
   "outputs": [],
   "source": [
    "# while(noofrepetitions <= counttorepeat):\n",
    "#     print(url)\n",
    "#     followlink(url)\n",
    "#     noofrepetitions += 1    \n",
    "    \n",
    "    \n",
    "# for tag in tags:\n",
    "#     print(namepos, linkpos)\n",
    "#     namepos += 1\n",
    "#     if namepos == linkpos and noofrepetitions <= counttorepeat:\n",
    "#         noofrepetitions += 1\n",
    "#         namepos = 0\n",
    "#         html\n",
    "#         followlink(tag.get('href', None))\n",
    "#         namepos = 0\n",
    "#         print(tag.get('href', None))\n",
    "#         html = urllib.request.urlopen(url, context=ctx).read()\n",
    "#         soup = BeautifulSoup(html, 'html.parser')\n",
    "#         tags = soup('a')\n",
    "#         noofrepetitions += 1\n",
    "#         if noofrepetitions == counttorepeat:\n",
    "#             break\n",
    "#         else:\n",
    "#             continue\n",
    "\n",
    "# http://py4e-data.dr-chuck.net/known_by_Veeran.html\n",
    "\n",
    "# ['Veeran', 'Hadia', 'Cuillin', 'Leyre', 'Rhian', 'Makala', 'Kendyn', 'Fathema']\n",
    "        \n"
   ]
  }
 ],
 "metadata": {
  "kernelspec": {
   "display_name": "Python 3",
   "language": "python",
   "name": "python3"
  },
  "language_info": {
   "codemirror_mode": {
    "name": "ipython",
    "version": 3
   },
   "file_extension": ".py",
   "mimetype": "text/x-python",
   "name": "python",
   "nbconvert_exporter": "python",
   "pygments_lexer": "ipython3",
   "version": "3.7.0"
  }
 },
 "nbformat": 4,
 "nbformat_minor": 2
}
